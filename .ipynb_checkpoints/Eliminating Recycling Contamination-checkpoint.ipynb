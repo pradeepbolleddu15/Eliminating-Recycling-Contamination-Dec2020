{
 "cells": [
  {
   "cell_type": "code",
   "execution_count": 1,
   "metadata": {
    "_cell_guid": "b1076dfc-b9ad-4769-8c92-a6c4dae69d19",
    "_uuid": "8f2839f25d086af736a60e9eeb907d3b93b6e0e5",
    "execution": {
     "iopub.execute_input": "2021-12-10T17:19:14.645615Z",
     "iopub.status.busy": "2021-12-10T17:19:14.645284Z",
     "iopub.status.idle": "2021-12-10T17:19:19.533470Z",
     "shell.execute_reply": "2021-12-10T17:19:19.532726Z",
     "shell.execute_reply.started": "2021-12-10T17:19:14.645534Z"
    }
   },
   "outputs": [],
   "source": [
    "import os\n",
    "#import numpy for number array handling and represent rgb image pixel values\n",
    "import numpy as np\n",
    "\n",
    "#import tensorflow to use any tools needed for deep learning\n",
    "import tensorflow as tf\n",
    "\n",
    "#import keras api needed to implement deep learning techiques\n",
    "from tensorflow import keras\n",
    "from tensorflow.keras.models import Sequential\n",
    "from tensorflow.keras.layers import Activation, Dense, BatchNormalization, Conv2D, MaxPool2D, GlobalAveragePooling2D, Dropout\n",
    "from tensorflow.keras.optimizers import Adam\n",
    "from tensorflow.keras.losses import CategoricalCrossentropy\n",
    "from tensorflow.keras.preprocessing.image import ImageDataGenerator\n",
    "\n",
    "#import libraries for visualization of data\n",
    "import matplotlib.pyplot as plt\n",
    "import matplotlib.image as mpimg\n",
    "\n",
    "#Allow charts and graphics to display right below the page of browser setup\n",
    "%matplotlib inline"
   ]
  },
  {
   "cell_type": "markdown",
   "metadata": {},
   "source": [
    "**Download data**"
   ]
  },
  {
   "cell_type": "code",
   "execution_count": 2,
   "metadata": {
    "execution": {
     "iopub.execute_input": "2021-12-10T17:19:19.535565Z",
     "iopub.status.busy": "2021-12-10T17:19:19.535282Z",
     "iopub.status.idle": "2021-12-10T17:19:19.544079Z",
     "shell.execute_reply": "2021-12-10T17:19:19.539635Z",
     "shell.execute_reply.started": "2021-12-10T17:19:19.535527Z"
    }
   },
   "outputs": [],
   "source": [
    "#paths to the train, validation and test image datasets \n",
    "train_path = '../input/garbage-classification/garbage classification/Garbage classification'\n",
    "valid_path = '../input/garbage-classification/garbage classification/Garbage classification'"
   ]
  },
  {
   "cell_type": "markdown",
   "metadata": {},
   "source": [
    "**Set up for Generic CNN model**"
   ]
  },
  {
   "cell_type": "code",
   "execution_count": 3,
   "metadata": {
    "execution": {
     "iopub.execute_input": "2021-12-10T17:19:19.546933Z",
     "iopub.status.busy": "2021-12-10T17:19:19.545668Z",
     "iopub.status.idle": "2021-12-10T17:19:20.449141Z",
     "shell.execute_reply": "2021-12-10T17:19:20.448430Z",
     "shell.execute_reply.started": "2021-12-10T17:19:19.546890Z"
    }
   },
   "outputs": [],
   "source": [
    "labels = ['cardboard', 'glass', 'metal', 'paper', 'plastic', 'trash']\n",
    "\n",
    "for label in labels:\n",
    "    directory = os.path.join(train_path, label)\n",
    "    print(\"Images of label \\\"\" + label + \"\\\":\\t\", len(os.listdir(directory)))"
   ]
  },
  {
   "cell_type": "code",
   "execution_count": 4,
   "metadata": {
    "execution": {
     "iopub.execute_input": "2021-12-10T17:19:20.450797Z",
     "iopub.status.busy": "2021-12-10T17:19:20.450537Z",
     "iopub.status.idle": "2021-12-10T17:19:25.855171Z",
     "shell.execute_reply": "2021-12-10T17:19:25.854233Z",
     "shell.execute_reply.started": "2021-12-10T17:19:20.450763Z"
    }
   },
   "outputs": [],
   "source": [
    "# plotting images of different review for understanding the dataset\n",
    "\n",
    "plt.figure(figsize=(30,14))\n",
    "\n",
    "for i in range(6):\n",
    "    directory = os.path.join(train_path, labels[i])\n",
    "    for j in range(10):\n",
    "        path = os.path.join(directory, os.listdir(directory)[j])\n",
    "        img = mpimg.imread(path)\n",
    "        \n",
    "        plt.subplot(6, 10, i*10 + j + 1)\n",
    "        plt.imshow(img)\n",
    "        \n",
    "        if j == 0:\n",
    "            plt.ylabel(labels[i], fontsize=20)\n",
    "        \n",
    "plt.setp(plt.gcf().get_axes(), xticks=[], yticks=[]);\n",
    "plt.tight_layout()\n",
    "plt.show()"
   ]
  },
  {
   "cell_type": "code",
   "execution_count": 5,
   "metadata": {
    "execution": {
     "iopub.execute_input": "2021-12-10T17:19:25.858028Z",
     "iopub.status.busy": "2021-12-10T17:19:25.857744Z",
     "iopub.status.idle": "2021-12-10T17:19:25.873376Z",
     "shell.execute_reply": "2021-12-10T17:19:25.872648Z",
     "shell.execute_reply.started": "2021-12-10T17:19:25.857991Z"
    }
   },
   "outputs": [],
   "source": [
    "# checking size of individual image\n",
    "\n",
    "directory = os.path.join(train_path, 'cardboard')\n",
    "path = os.path.join(directory, os.listdir(directory)[0])\n",
    "image = mpimg.imread(path)\n",
    "image.shape"
   ]
  },
  {
   "cell_type": "code",
   "execution_count": 6,
   "metadata": {
    "execution": {
     "iopub.execute_input": "2021-12-10T17:19:25.875244Z",
     "iopub.status.busy": "2021-12-10T17:19:25.874784Z",
     "iopub.status.idle": "2021-12-10T17:19:28.526713Z",
     "shell.execute_reply": "2021-12-10T17:19:28.526082Z",
     "shell.execute_reply.started": "2021-12-10T17:19:25.875200Z"
    }
   },
   "outputs": [],
   "source": [
    "# creating the model\n",
    "\n",
    "model = tf.keras.Sequential([\n",
    "  tf.keras.layers.Conv2D(32, (3, 3), activation='relu', input_shape=(384, 512, 3)),\n",
    "  tf.keras.layers.BatchNormalization(),\n",
    "  tf.keras.layers.Conv2D(32, (3, 3), activation='relu'),\n",
    "  tf.keras.layers.BatchNormalization(),\n",
    "  tf.keras.layers.MaxPooling2D(2, 2),\n",
    "  tf.keras.layers.Dropout(0.2),\n",
    "    \n",
    "  tf.keras.layers.Conv2D(64, (3, 3), activation='relu'),\n",
    "  tf.keras.layers.BatchNormalization(),\n",
    "  tf.keras.layers.Conv2D(64, (3, 3), activation='relu'),\n",
    "  tf.keras.layers.BatchNormalization(),\n",
    "  tf.keras.layers.MaxPooling2D(2, 2),\n",
    "  tf.keras.layers.Dropout(0.2),\n",
    "    \n",
    "  tf.keras.layers.Conv2D(128, (3, 3), activation='relu'),\n",
    "  tf.keras.layers.BatchNormalization(),\n",
    "  tf.keras.layers.Conv2D(128, (3, 3), activation='relu'),\n",
    "  tf.keras.layers.BatchNormalization(),\n",
    "  tf.keras.layers.MaxPooling2D(2, 2),\n",
    "  tf.keras.layers.Dropout(0.2),\n",
    "\n",
    "  tf.keras.layers.Conv2D(256, (3, 3), activation='relu'),\n",
    "  tf.keras.layers.BatchNormalization(),\n",
    "  tf.keras.layers.Conv2D(256, (3, 3), activation='relu'),\n",
    "  tf.keras.layers.BatchNormalization(),\n",
    "  tf.keras.layers.MaxPooling2D(2, 2),\n",
    "  tf.keras.layers.Dropout(0.2),\n",
    "    \n",
    "  tf.keras.layers.Flatten(),\n",
    "  tf.keras.layers.Dense(512, activation='relu'),\n",
    "  tf.keras.layers.BatchNormalization(),\n",
    "  tf.keras.layers.Dropout(0.4),\n",
    "  tf.keras.layers.Dense(6, activation='softmax')\n",
    "])\n",
    "\n",
    "model.summary()"
   ]
  },
  {
   "cell_type": "code",
   "execution_count": 7,
   "metadata": {
    "execution": {
     "iopub.execute_input": "2021-12-10T17:19:28.528205Z",
     "iopub.status.busy": "2021-12-10T17:19:28.527948Z",
     "iopub.status.idle": "2021-12-10T17:19:28.544360Z",
     "shell.execute_reply": "2021-12-10T17:19:28.542803Z",
     "shell.execute_reply.started": "2021-12-10T17:19:28.528170Z"
    }
   },
   "outputs": [],
   "source": [
    "model.compile(loss='sparse_categorical_crossentropy', optimizer=keras.optimizers.Adam(lr = 0.0001), metrics=['accuracy'])"
   ]
  },
  {
   "cell_type": "code",
   "execution_count": 8,
   "metadata": {
    "execution": {
     "iopub.execute_input": "2021-12-10T17:19:28.547069Z",
     "iopub.status.busy": "2021-12-10T17:19:28.546829Z",
     "iopub.status.idle": "2021-12-10T17:19:28.870609Z",
     "shell.execute_reply": "2021-12-10T17:19:28.869611Z",
     "shell.execute_reply.started": "2021-12-10T17:19:28.547039Z"
    }
   },
   "outputs": [],
   "source": [
    "# creating generators for combining data and increasing the gainable insights by slightly modifying the images in the dataset\n",
    "\n",
    "train_datagen = ImageDataGenerator(horizontal_flip=True,vertical_flip=True,\n",
    "                                   rotation_range=15,zoom_range=0.1,\n",
    "                                   width_shift_range=0.15,height_shift_range=0.15,\n",
    "                                   shear_range=0.1,\n",
    "                                   fill_mode=\"nearest\",\n",
    "                                   rescale=1./255., \n",
    "                                   validation_split=0.2)\n",
    "\n",
    "train_generator = train_datagen.flow_from_directory(train_path, target_size=(384, 512), batch_size=32, class_mode='binary', subset='training')\n",
    "validation_generator = train_datagen.flow_from_directory(train_path, target_size=(384, 512), batch_size=32, class_mode='binary', subset='validation')"
   ]
  },
  {
   "cell_type": "code",
   "execution_count": 9,
   "metadata": {
    "execution": {
     "iopub.execute_input": "2021-12-10T17:19:28.871995Z",
     "iopub.status.busy": "2021-12-10T17:19:28.871734Z",
     "iopub.status.idle": "2021-12-10T18:58:24.359730Z",
     "shell.execute_reply": "2021-12-10T18:58:24.358955Z",
     "shell.execute_reply.started": "2021-12-10T17:19:28.871962Z"
    }
   },
   "outputs": [],
   "source": [
    "history = model.fit(train_generator, epochs=50, verbose=1, validation_data=validation_generator)"
   ]
  },
  {
   "cell_type": "code",
   "execution_count": 10,
   "metadata": {
    "execution": {
     "iopub.execute_input": "2021-12-10T18:58:24.361901Z",
     "iopub.status.busy": "2021-12-10T18:58:24.361613Z",
     "iopub.status.idle": "2021-12-10T18:58:24.578049Z",
     "shell.execute_reply": "2021-12-10T18:58:24.577379Z",
     "shell.execute_reply.started": "2021-12-10T18:58:24.361862Z"
    }
   },
   "outputs": [],
   "source": [
    "num_epochs = range(1,51)\n",
    "plt.plot(num_epochs, history.history['accuracy'], label='Training', c='r')\n",
    "plt.plot(num_epochs, history.history['val_accuracy'], label='Validation', c='b')\n",
    "plt.xlabel('Epochs')\n",
    "plt.ylabel('Accuracy')\n",
    "plt.legend()\n",
    "plt.show()"
   ]
  },
  {
   "cell_type": "code",
   "execution_count": 11,
   "metadata": {
    "execution": {
     "iopub.execute_input": "2021-12-10T18:58:24.579716Z",
     "iopub.status.busy": "2021-12-10T18:58:24.579347Z",
     "iopub.status.idle": "2021-12-10T18:58:24.782402Z",
     "shell.execute_reply": "2021-12-10T18:58:24.781740Z",
     "shell.execute_reply.started": "2021-12-10T18:58:24.579679Z"
    }
   },
   "outputs": [],
   "source": [
    "plt.plot(num_epochs,history.history['loss'],c=\"red\",label=\"Training\")\n",
    "plt.plot(num_epochs,history.history['val_loss'],c=\"blue\",label=\"Validation\")\n",
    "plt.xlabel(\"Epochs\")\n",
    "plt.ylabel(\"Loss\")\n",
    "plt.legend()\n",
    "plt.show()"
   ]
  },
  {
   "cell_type": "markdown",
   "metadata": {},
   "source": [
    "**Generate training data set**"
   ]
  },
  {
   "cell_type": "code",
   "execution_count": 12,
   "metadata": {
    "execution": {
     "iopub.execute_input": "2021-12-10T18:58:24.784170Z",
     "iopub.status.busy": "2021-12-10T18:58:24.783890Z",
     "iopub.status.idle": "2021-12-10T18:58:24.999297Z",
     "shell.execute_reply": "2021-12-10T18:58:24.998519Z",
     "shell.execute_reply.started": "2021-12-10T18:58:24.784123Z"
    }
   },
   "outputs": [],
   "source": [
    "train_batches = ImageDataGenerator(\n",
    "    preprocessing_function=tf.keras.applications.vgg16.preprocess_input,\n",
    "    shear_range=0.2,\n",
    "    zoom_range=0.2,\n",
    "    width_shift_range=0.2,\n",
    "    height_shift_range=0.2,\n",
    "    validation_split=0.2).flow_from_directory(\n",
    "    directory=train_path, target_size=(224,224), classes=['cardboard', 'glass', 'metal', \n",
    "                                                         'paper', 'plastic', 'trash'], \n",
    "                                                        batch_size=16, subset='training')"
   ]
  },
  {
   "cell_type": "markdown",
   "metadata": {},
   "source": [
    "**Generating validatoin data set**"
   ]
  },
  {
   "cell_type": "code",
   "execution_count": 13,
   "metadata": {
    "execution": {
     "iopub.execute_input": "2021-12-10T18:58:25.003228Z",
     "iopub.status.busy": "2021-12-10T18:58:25.000488Z",
     "iopub.status.idle": "2021-12-10T18:58:25.111151Z",
     "shell.execute_reply": "2021-12-10T18:58:25.110447Z",
     "shell.execute_reply.started": "2021-12-10T18:58:25.003198Z"
    }
   },
   "outputs": [],
   "source": [
    "valid_batches = ImageDataGenerator(\n",
    "    preprocessing_function=tf.keras.applications.vgg16.preprocess_input,\n",
    "    validation_split=0.2).flow_from_directory(\n",
    "    directory=valid_path, target_size=(224,224), classes=['cardboard', 'glass', 'metal', \n",
    "                                                         'paper', 'plastic', 'trash'], batch_size=16, subset='validation')"
   ]
  },
  {
   "cell_type": "markdown",
   "metadata": {},
   "source": [
    "**View the preprocessed picture**"
   ]
  },
  {
   "cell_type": "code",
   "execution_count": 14,
   "metadata": {
    "execution": {
     "iopub.execute_input": "2021-12-10T18:58:25.115070Z",
     "iopub.status.busy": "2021-12-10T18:58:25.114877Z",
     "iopub.status.idle": "2021-12-10T18:58:25.122516Z",
     "shell.execute_reply": "2021-12-10T18:58:25.121678Z",
     "shell.execute_reply.started": "2021-12-10T18:58:25.115046Z"
    }
   },
   "outputs": [],
   "source": [
    "def plotImages(images):\n",
    "    fig, axes = plt.subplots(1, 6, figsize=(20,20))\n",
    "    axes = axes.flatten()\n",
    "    for img, ax in zip(images, axes):\n",
    "        ax.imshow(img.astype(np.uint8))\n",
    "        ax.axis('off')\n",
    "    plt.tight_layout()\n",
    "    plt.show()"
   ]
  },
  {
   "cell_type": "code",
   "execution_count": 15,
   "metadata": {
    "execution": {
     "iopub.execute_input": "2021-12-10T18:58:25.124884Z",
     "iopub.status.busy": "2021-12-10T18:58:25.124572Z",
     "iopub.status.idle": "2021-12-10T18:58:25.824270Z",
     "shell.execute_reply": "2021-12-10T18:58:25.823572Z",
     "shell.execute_reply.started": "2021-12-10T18:58:25.124844Z"
    }
   },
   "outputs": [],
   "source": [
    "imgs, labels = next(train_batches)\n",
    "plotImages(imgs)"
   ]
  },
  {
   "cell_type": "markdown",
   "metadata": {},
   "source": [
    "**Build a convolutional neural network**"
   ]
  },
  {
   "cell_type": "code",
   "execution_count": 16,
   "metadata": {
    "execution": {
     "iopub.execute_input": "2021-12-10T18:58:25.825920Z",
     "iopub.status.busy": "2021-12-10T18:58:25.825489Z",
     "iopub.status.idle": "2021-12-10T18:58:26.797287Z",
     "shell.execute_reply": "2021-12-10T18:58:26.796504Z",
     "shell.execute_reply.started": "2021-12-10T18:58:25.825881Z"
    }
   },
   "outputs": [],
   "source": [
    "#imput image size\n",
    "IMG_SIZE = 224\n",
    "IMG_SHAPE = (IMG_SIZE, IMG_SIZE, 3)\n",
    "#Import the pretrained weights VGG basic model\n",
    "base_model = tf.keras.applications.VGG16(input_shape=IMG_SHAPE, \n",
    "                                        include_top=False,\n",
    "                                        weights='imagenet')"
   ]
  },
  {
   "cell_type": "code",
   "execution_count": null,
   "metadata": {},
   "outputs": [],
   "source": []
  },
  {
   "cell_type": "code",
   "execution_count": 17,
   "metadata": {
    "execution": {
     "iopub.execute_input": "2021-12-10T18:58:26.798868Z",
     "iopub.status.busy": "2021-12-10T18:58:26.798595Z",
     "iopub.status.idle": "2021-12-10T18:58:26.816110Z",
     "shell.execute_reply": "2021-12-10T18:58:26.815444Z",
     "shell.execute_reply.started": "2021-12-10T18:58:26.798831Z"
    }
   },
   "outputs": [],
   "source": [
    "base_model.summary()"
   ]
  },
  {
   "cell_type": "markdown",
   "metadata": {},
   "source": [
    "**Add layers to the model and build the model**"
   ]
  },
  {
   "cell_type": "code",
   "execution_count": 18,
   "metadata": {
    "execution": {
     "iopub.execute_input": "2021-12-10T18:58:26.817956Z",
     "iopub.status.busy": "2021-12-10T18:58:26.817690Z",
     "iopub.status.idle": "2021-12-10T18:58:26.934448Z",
     "shell.execute_reply": "2021-12-10T18:58:26.933785Z",
     "shell.execute_reply.started": "2021-12-10T18:58:26.817923Z"
    }
   },
   "outputs": [],
   "source": [
    "\n",
    "model = Sequential()\n",
    "\n",
    "base_model.trainable=False\n",
    "\n",
    "#Load the pretrained model\n",
    "model.add(base_model)\n",
    "\n",
    "model.add(GlobalAveragePooling2D())\n",
    "\n",
    "model.add(Dense(units=512, activation='relu'))  \n",
    "model.add(BatchNormalization())                 \n",
    "model.add(Dropout(0.2))                         \n",
    "\n",
    "model.add(Dense(units=128, activation='relu')) \n",
    "model.add(BatchNormalization())                \n",
    "model.add(Dropout(0.2))                        \n",
    "\n",
    "model.add(Dense(units=6, activation='softmax')) \n",
    "model.summary()"
   ]
  },
  {
   "cell_type": "markdown",
   "metadata": {},
   "source": [
    "**Set the loss functions、metrics、adam（The initial learning rate 0.0001）**"
   ]
  },
  {
   "cell_type": "code",
   "execution_count": 19,
   "metadata": {
    "execution": {
     "iopub.execute_input": "2021-12-10T18:58:26.935761Z",
     "iopub.status.busy": "2021-12-10T18:58:26.935520Z",
     "iopub.status.idle": "2021-12-10T18:58:26.945307Z",
     "shell.execute_reply": "2021-12-10T18:58:26.944530Z",
     "shell.execute_reply.started": "2021-12-10T18:58:26.935726Z"
    }
   },
   "outputs": [],
   "source": [
    "model.compile(optimizer=Adam(learning_rate=0.0001), loss='categorical_crossentropy', metrics=['accuracy'])"
   ]
  },
  {
   "cell_type": "code",
   "execution_count": 20,
   "metadata": {
    "execution": {
     "iopub.execute_input": "2021-12-10T18:58:26.947014Z",
     "iopub.status.busy": "2021-12-10T18:58:26.946419Z",
     "iopub.status.idle": "2021-12-10T19:08:45.098363Z",
     "shell.execute_reply": "2021-12-10T19:08:45.097603Z",
     "shell.execute_reply.started": "2021-12-10T18:58:26.946924Z"
    }
   },
   "outputs": [],
   "source": [
    "model_details = model.fit(x=train_batches, validation_data=valid_batches, epochs=20, verbose=2)"
   ]
  },
  {
   "cell_type": "code",
   "execution_count": 21,
   "metadata": {
    "execution": {
     "iopub.execute_input": "2021-12-10T19:08:45.099990Z",
     "iopub.status.busy": "2021-12-10T19:08:45.099681Z",
     "iopub.status.idle": "2021-12-10T19:08:45.104444Z",
     "shell.execute_reply": "2021-12-10T19:08:45.103589Z",
     "shell.execute_reply.started": "2021-12-10T19:08:45.099950Z"
    }
   },
   "outputs": [],
   "source": [
    "loss = model_details.history['loss']\n",
    "validation_loss = model_details.history['val_loss']"
   ]
  },
  {
   "cell_type": "code",
   "execution_count": 22,
   "metadata": {
    "execution": {
     "iopub.execute_input": "2021-12-10T19:08:45.106165Z",
     "iopub.status.busy": "2021-12-10T19:08:45.105658Z",
     "iopub.status.idle": "2021-12-10T19:08:45.116906Z",
     "shell.execute_reply": "2021-12-10T19:08:45.116156Z",
     "shell.execute_reply.started": "2021-12-10T19:08:45.106130Z"
    }
   },
   "outputs": [],
   "source": [
    "accuracy = model_details.history['accuracy']\n",
    "validation_accuracy = model_details.history['val_accuracy']"
   ]
  },
  {
   "cell_type": "code",
   "execution_count": 23,
   "metadata": {
    "execution": {
     "iopub.execute_input": "2021-12-10T19:08:45.118587Z",
     "iopub.status.busy": "2021-12-10T19:08:45.118266Z",
     "iopub.status.idle": "2021-12-10T19:08:45.129729Z",
     "shell.execute_reply": "2021-12-10T19:08:45.128990Z",
     "shell.execute_reply.started": "2021-12-10T19:08:45.118551Z"
    }
   },
   "outputs": [],
   "source": [
    "len(validation_accuracy)"
   ]
  },
  {
   "cell_type": "markdown",
   "metadata": {},
   "source": []
  },
  {
   "cell_type": "markdown",
   "metadata": {},
   "source": [
    "**Fine-tune model**"
   ]
  },
  {
   "cell_type": "code",
   "execution_count": 24,
   "metadata": {
    "execution": {
     "iopub.execute_input": "2021-12-10T19:08:45.133433Z",
     "iopub.status.busy": "2021-12-10T19:08:45.132145Z",
     "iopub.status.idle": "2021-12-10T19:08:45.139415Z",
     "shell.execute_reply": "2021-12-10T19:08:45.138638Z",
     "shell.execute_reply.started": "2021-12-10T19:08:45.133385Z"
    }
   },
   "outputs": [],
   "source": [
    "base_model.trainable=True"
   ]
  },
  {
   "cell_type": "code",
   "execution_count": 25,
   "metadata": {
    "execution": {
     "iopub.execute_input": "2021-12-10T19:08:45.141021Z",
     "iopub.status.busy": "2021-12-10T19:08:45.140674Z",
     "iopub.status.idle": "2021-12-10T19:08:45.156958Z",
     "shell.execute_reply": "2021-12-10T19:08:45.156070Z",
     "shell.execute_reply.started": "2021-12-10T19:08:45.140986Z"
    }
   },
   "outputs": [],
   "source": [
    "model.summary()"
   ]
  },
  {
   "cell_type": "code",
   "execution_count": 26,
   "metadata": {
    "execution": {
     "iopub.execute_input": "2021-12-10T19:08:45.158242Z",
     "iopub.status.busy": "2021-12-10T19:08:45.157961Z",
     "iopub.status.idle": "2021-12-10T19:12:55.283078Z",
     "shell.execute_reply": "2021-12-10T19:12:55.282203Z",
     "shell.execute_reply.started": "2021-12-10T19:08:45.158208Z"
    }
   },
   "outputs": [],
   "source": [
    "model_details = model.fit(x=train_batches,validation_data=valid_batches,\n",
    "                          epochs=8, verbose=2)"
   ]
  },
  {
   "cell_type": "code",
   "execution_count": 27,
   "metadata": {
    "execution": {
     "iopub.execute_input": "2021-12-10T19:12:55.284862Z",
     "iopub.status.busy": "2021-12-10T19:12:55.284574Z",
     "iopub.status.idle": "2021-12-10T19:12:55.426202Z",
     "shell.execute_reply": "2021-12-10T19:12:55.425410Z",
     "shell.execute_reply.started": "2021-12-10T19:12:55.284826Z"
    }
   },
   "outputs": [],
   "source": [
    "model.save('vgg16.h5')"
   ]
  },
  {
   "cell_type": "markdown",
   "metadata": {},
   "source": [
    "**View training results**"
   ]
  },
  {
   "cell_type": "code",
   "execution_count": 28,
   "metadata": {
    "execution": {
     "iopub.execute_input": "2021-12-10T19:12:55.427885Z",
     "iopub.status.busy": "2021-12-10T19:12:55.427626Z",
     "iopub.status.idle": "2021-12-10T19:12:55.432728Z",
     "shell.execute_reply": "2021-12-10T19:12:55.431802Z",
     "shell.execute_reply.started": "2021-12-10T19:12:55.427852Z"
    }
   },
   "outputs": [],
   "source": [
    "loss.extend(model_details.history['loss'])\n",
    "validation_loss.extend(model_details.history['val_loss'])\n",
    "accuracy.extend(model_details.history['accuracy'])\n",
    "validation_accuracy.extend(model_details.history['val_accuracy'])"
   ]
  },
  {
   "cell_type": "code",
   "execution_count": 29,
   "metadata": {
    "execution": {
     "iopub.execute_input": "2021-12-10T19:12:55.434967Z",
     "iopub.status.busy": "2021-12-10T19:12:55.434380Z",
     "iopub.status.idle": "2021-12-10T19:12:55.446331Z",
     "shell.execute_reply": "2021-12-10T19:12:55.445587Z",
     "shell.execute_reply.started": "2021-12-10T19:12:55.434933Z"
    }
   },
   "outputs": [],
   "source": [
    "len(validation_accuracy)"
   ]
  },
  {
   "cell_type": "code",
   "execution_count": 30,
   "metadata": {
    "execution": {
     "iopub.execute_input": "2021-12-10T19:12:55.448010Z",
     "iopub.status.busy": "2021-12-10T19:12:55.447831Z",
     "iopub.status.idle": "2021-12-10T19:12:55.796872Z",
     "shell.execute_reply": "2021-12-10T19:12:55.796170Z",
     "shell.execute_reply.started": "2021-12-10T19:12:55.447989Z"
    }
   },
   "outputs": [],
   "source": [
    "epochs = range(1, len(loss)+1)\n",
    "\n",
    "fig1 = plt.figure(figsize=(10,6))\n",
    "plt.plot(epochs,loss,c=\"red\",label=\"Training\")\n",
    "plt.plot(epochs,validation_loss,c=\"blue\",label=\"Validation\")\n",
    "plt.xlabel(\"Epochs\")\n",
    "plt.ylabel(\"Loss\")\n",
    "plt.xticks(epochs)\n",
    "plt.legend()"
   ]
  },
  {
   "cell_type": "code",
   "execution_count": 31,
   "metadata": {
    "execution": {
     "iopub.execute_input": "2021-12-10T19:12:55.798920Z",
     "iopub.status.busy": "2021-12-10T19:12:55.798032Z",
     "iopub.status.idle": "2021-12-10T19:12:56.148297Z",
     "shell.execute_reply": "2021-12-10T19:12:56.147631Z",
     "shell.execute_reply.started": "2021-12-10T19:12:55.798874Z"
    }
   },
   "outputs": [],
   "source": [
    "epochs = range(1, len(accuracy)+1)\n",
    "\n",
    "fig2 = plt.figure(figsize=(10,6))\n",
    "plt.plot(epochs,accuracy,c=\"red\",label=\"Training\")\n",
    "plt.plot(epochs,validation_accuracy,c=\"blue\",label=\"Validation\")\n",
    "plt.xlabel(\"Epochs\")\n",
    "plt.ylabel(\"Accuracy\")\n",
    "plt.xticks(epochs)\n",
    "plt.legend()"
   ]
  },
  {
   "cell_type": "code",
   "execution_count": null,
   "metadata": {},
   "outputs": [],
   "source": []
  },
  {
   "cell_type": "markdown",
   "metadata": {},
   "source": [
    "**RESNET50**"
   ]
  },
  {
   "cell_type": "code",
   "execution_count": 32,
   "metadata": {
    "execution": {
     "iopub.execute_input": "2021-12-10T19:12:56.149829Z",
     "iopub.status.busy": "2021-12-10T19:12:56.149459Z",
     "iopub.status.idle": "2021-12-10T19:12:56.153904Z",
     "shell.execute_reply": "2021-12-10T19:12:56.153028Z",
     "shell.execute_reply.started": "2021-12-10T19:12:56.149786Z"
    }
   },
   "outputs": [],
   "source": [
    "##RESNET50"
   ]
  },
  {
   "cell_type": "code",
   "execution_count": 33,
   "metadata": {
    "execution": {
     "iopub.execute_input": "2021-12-10T19:12:56.156177Z",
     "iopub.status.busy": "2021-12-10T19:12:56.155600Z",
     "iopub.status.idle": "2021-12-10T19:12:56.370555Z",
     "shell.execute_reply": "2021-12-10T19:12:56.369846Z",
     "shell.execute_reply.started": "2021-12-10T19:12:56.156140Z"
    }
   },
   "outputs": [],
   "source": [
    "train_batches = ImageDataGenerator(\n",
    "    preprocessing_function=tf.keras.applications.resnet50.preprocess_input,\n",
    "    shear_range=0.2,\n",
    "    zoom_range=0.2,\n",
    "    width_shift_range=0.2,\n",
    "    height_shift_range=0.2,\n",
    "    validation_split=0.2).flow_from_directory(\n",
    "    directory=train_path, target_size=(224,224), classes=['cardboard', 'glass', 'metal', \n",
    "                                                         'paper', 'plastic', 'trash'], batch_size=16, subset='training')"
   ]
  },
  {
   "cell_type": "code",
   "execution_count": 34,
   "metadata": {
    "execution": {
     "iopub.execute_input": "2021-12-10T19:12:56.374749Z",
     "iopub.status.busy": "2021-12-10T19:12:56.371649Z",
     "iopub.status.idle": "2021-12-10T19:12:56.482337Z",
     "shell.execute_reply": "2021-12-10T19:12:56.481694Z",
     "shell.execute_reply.started": "2021-12-10T19:12:56.374699Z"
    }
   },
   "outputs": [],
   "source": [
    "valid_batches = ImageDataGenerator(\n",
    "    preprocessing_function=tf.keras.applications.resnet50.preprocess_input,\n",
    "    validation_split=0.2).flow_from_directory(\n",
    "    directory=valid_path, target_size=(224,224), classes=['cardboard', 'glass', 'metal', \n",
    "                                                         'paper', 'plastic', 'trash'], batch_size=16, subset='validation')"
   ]
  },
  {
   "cell_type": "code",
   "execution_count": 35,
   "metadata": {
    "execution": {
     "iopub.execute_input": "2021-12-10T19:12:56.484972Z",
     "iopub.status.busy": "2021-12-10T19:12:56.484704Z",
     "iopub.status.idle": "2021-12-10T19:12:56.490588Z",
     "shell.execute_reply": "2021-12-10T19:12:56.489650Z",
     "shell.execute_reply.started": "2021-12-10T19:12:56.484938Z"
    }
   },
   "outputs": [],
   "source": [
    "def plotImages(images):\n",
    "    fig, axes = plt.subplots(1, 6, figsize=(20,20))\n",
    "    axes = axes.flatten()\n",
    "    for img, ax in zip(images, axes):\n",
    "        ax.imshow(img.astype(np.uint8))\n",
    "        ax.axis('off')\n",
    "    plt.tight_layout()\n",
    "    plt.show()"
   ]
  },
  {
   "cell_type": "code",
   "execution_count": 36,
   "metadata": {
    "execution": {
     "iopub.execute_input": "2021-12-10T19:12:56.492559Z",
     "iopub.status.busy": "2021-12-10T19:12:56.492008Z",
     "iopub.status.idle": "2021-12-10T19:12:57.419261Z",
     "shell.execute_reply": "2021-12-10T19:12:57.418601Z",
     "shell.execute_reply.started": "2021-12-10T19:12:56.492522Z"
    }
   },
   "outputs": [],
   "source": [
    "imgs, labels = next(train_batches)\n",
    "plotImages(imgs)"
   ]
  },
  {
   "cell_type": "code",
   "execution_count": 37,
   "metadata": {
    "execution": {
     "iopub.execute_input": "2021-12-10T19:12:57.421107Z",
     "iopub.status.busy": "2021-12-10T19:12:57.420587Z",
     "iopub.status.idle": "2021-12-10T19:12:59.252738Z",
     "shell.execute_reply": "2021-12-10T19:12:59.252000Z",
     "shell.execute_reply.started": "2021-12-10T19:12:57.421061Z"
    }
   },
   "outputs": [],
   "source": [
    "#imput image size\n",
    "IMG_SIZE = 224\n",
    "IMG_SHAPE = (IMG_SIZE, IMG_SIZE, 3)\n",
    "#Import the pretrained weights VGG basic model\n",
    "base_model = tf.keras.applications.ResNet50(input_shape=IMG_SHAPE, \n",
    "                                        include_top=False,\n",
    "                                        weights='imagenet')"
   ]
  },
  {
   "cell_type": "code",
   "execution_count": 38,
   "metadata": {
    "execution": {
     "iopub.execute_input": "2021-12-10T19:12:59.254573Z",
     "iopub.status.busy": "2021-12-10T19:12:59.254287Z",
     "iopub.status.idle": "2021-12-10T19:12:59.344809Z",
     "shell.execute_reply": "2021-12-10T19:12:59.343982Z",
     "shell.execute_reply.started": "2021-12-10T19:12:59.254539Z"
    }
   },
   "outputs": [],
   "source": [
    "base_model.summary()"
   ]
  },
  {
   "cell_type": "code",
   "execution_count": 39,
   "metadata": {
    "execution": {
     "iopub.execute_input": "2021-12-10T19:12:59.346212Z",
     "iopub.status.busy": "2021-12-10T19:12:59.345993Z",
     "iopub.status.idle": "2021-12-10T19:12:59.793910Z",
     "shell.execute_reply": "2021-12-10T19:12:59.793014Z",
     "shell.execute_reply.started": "2021-12-10T19:12:59.346187Z"
    }
   },
   "outputs": [],
   "source": [
    "model = Sequential()\n",
    "\n",
    "base_model.trainable=False\n",
    "\n",
    "#Load the pretrained model\n",
    "model.add(base_model)\n",
    "\n",
    "model.add(GlobalAveragePooling2D())\n",
    "\n",
    "model.add(Dense(units=512, activation='relu'))  \n",
    "model.add(BatchNormalization())                 \n",
    "model.add(Dropout(0.2))                         \n",
    "\n",
    "model.add(Dense(units=128, activation='relu')) \n",
    "model.add(BatchNormalization())                \n",
    "model.add(Dropout(0.2))                        \n",
    "\n",
    "model.add(Dense(units=6, activation='softmax')) \n",
    "model.summary()"
   ]
  },
  {
   "cell_type": "code",
   "execution_count": 40,
   "metadata": {
    "execution": {
     "iopub.execute_input": "2021-12-10T19:12:59.797287Z",
     "iopub.status.busy": "2021-12-10T19:12:59.797062Z",
     "iopub.status.idle": "2021-12-10T19:12:59.810988Z",
     "shell.execute_reply": "2021-12-10T19:12:59.810165Z",
     "shell.execute_reply.started": "2021-12-10T19:12:59.797262Z"
    }
   },
   "outputs": [],
   "source": [
    "model.compile(optimizer=Adam(learning_rate=0.0001), loss='categorical_crossentropy', metrics=['accuracy'])"
   ]
  },
  {
   "cell_type": "code",
   "execution_count": 41,
   "metadata": {
    "execution": {
     "iopub.execute_input": "2021-12-10T19:12:59.817321Z",
     "iopub.status.busy": "2021-12-10T19:12:59.817119Z",
     "iopub.status.idle": "2021-12-10T19:23:19.341815Z",
     "shell.execute_reply": "2021-12-10T19:23:19.341008Z",
     "shell.execute_reply.started": "2021-12-10T19:12:59.817296Z"
    }
   },
   "outputs": [],
   "source": [
    "model_details = model.fit(x=train_batches, validation_data=valid_batches, epochs=20, verbose=2)"
   ]
  },
  {
   "cell_type": "code",
   "execution_count": 42,
   "metadata": {
    "execution": {
     "iopub.execute_input": "2021-12-10T19:23:19.343560Z",
     "iopub.status.busy": "2021-12-10T19:23:19.343323Z",
     "iopub.status.idle": "2021-12-10T19:23:19.348714Z",
     "shell.execute_reply": "2021-12-10T19:23:19.347660Z",
     "shell.execute_reply.started": "2021-12-10T19:23:19.343527Z"
    }
   },
   "outputs": [],
   "source": [
    "loss = model_details.history['loss']\n",
    "validation_loss = model_details.history['val_loss']"
   ]
  },
  {
   "cell_type": "code",
   "execution_count": 43,
   "metadata": {
    "execution": {
     "iopub.execute_input": "2021-12-10T19:23:19.350592Z",
     "iopub.status.busy": "2021-12-10T19:23:19.350182Z",
     "iopub.status.idle": "2021-12-10T19:23:19.360182Z",
     "shell.execute_reply": "2021-12-10T19:23:19.359271Z",
     "shell.execute_reply.started": "2021-12-10T19:23:19.350556Z"
    }
   },
   "outputs": [],
   "source": [
    "accuracy = model_details.history['accuracy']\n",
    "validation_accuracy = model_details.history['val_accuracy']"
   ]
  },
  {
   "cell_type": "code",
   "execution_count": 44,
   "metadata": {
    "execution": {
     "iopub.execute_input": "2021-12-10T19:23:19.362309Z",
     "iopub.status.busy": "2021-12-10T19:23:19.361522Z",
     "iopub.status.idle": "2021-12-10T19:23:19.374941Z",
     "shell.execute_reply": "2021-12-10T19:23:19.374239Z",
     "shell.execute_reply.started": "2021-12-10T19:23:19.362272Z"
    }
   },
   "outputs": [],
   "source": [
    "base_model.trainable=True"
   ]
  },
  {
   "cell_type": "code",
   "execution_count": 45,
   "metadata": {
    "execution": {
     "iopub.execute_input": "2021-12-10T19:23:19.376527Z",
     "iopub.status.busy": "2021-12-10T19:23:19.376276Z",
     "iopub.status.idle": "2021-12-10T19:23:19.403999Z",
     "shell.execute_reply": "2021-12-10T19:23:19.403306Z",
     "shell.execute_reply.started": "2021-12-10T19:23:19.376495Z"
    }
   },
   "outputs": [],
   "source": [
    "model.summary()"
   ]
  },
  {
   "cell_type": "code",
   "execution_count": 46,
   "metadata": {
    "execution": {
     "iopub.execute_input": "2021-12-10T19:23:19.405287Z",
     "iopub.status.busy": "2021-12-10T19:23:19.405041Z",
     "iopub.status.idle": "2021-12-10T19:27:20.629579Z",
     "shell.execute_reply": "2021-12-10T19:27:20.628827Z",
     "shell.execute_reply.started": "2021-12-10T19:23:19.405254Z"
    }
   },
   "outputs": [],
   "source": [
    "model_details = model.fit(x=train_batches,validation_data=valid_batches,\n",
    "                          epochs=8, verbose=2)"
   ]
  },
  {
   "cell_type": "code",
   "execution_count": 47,
   "metadata": {
    "execution": {
     "iopub.execute_input": "2021-12-10T19:27:20.631493Z",
     "iopub.status.busy": "2021-12-10T19:27:20.631229Z",
     "iopub.status.idle": "2021-12-10T19:27:21.093149Z",
     "shell.execute_reply": "2021-12-10T19:27:21.092296Z",
     "shell.execute_reply.started": "2021-12-10T19:27:20.631457Z"
    }
   },
   "outputs": [],
   "source": [
    "model.save('ResNet50.h5')"
   ]
  },
  {
   "cell_type": "code",
   "execution_count": 48,
   "metadata": {
    "execution": {
     "iopub.execute_input": "2021-12-10T19:27:21.094870Z",
     "iopub.status.busy": "2021-12-10T19:27:21.094562Z",
     "iopub.status.idle": "2021-12-10T19:27:21.100704Z",
     "shell.execute_reply": "2021-12-10T19:27:21.099951Z",
     "shell.execute_reply.started": "2021-12-10T19:27:21.094834Z"
    }
   },
   "outputs": [],
   "source": [
    "loss.extend(model_details.history['loss'])\n",
    "validation_loss.extend(model_details.history['val_loss'])\n",
    "accuracy.extend(model_details.history['accuracy'])\n",
    "validation_accuracy.extend(model_details.history['val_accuracy'])"
   ]
  },
  {
   "cell_type": "code",
   "execution_count": 49,
   "metadata": {
    "execution": {
     "iopub.execute_input": "2021-12-10T19:27:21.103083Z",
     "iopub.status.busy": "2021-12-10T19:27:21.102526Z",
     "iopub.status.idle": "2021-12-10T19:27:21.423341Z",
     "shell.execute_reply": "2021-12-10T19:27:21.422616Z",
     "shell.execute_reply.started": "2021-12-10T19:27:21.103040Z"
    }
   },
   "outputs": [],
   "source": [
    "epochs = range(1, len(loss)+1)\n",
    "\n",
    "fig1 = plt.figure(figsize=(10,6))\n",
    "plt.plot(epochs,loss,c=\"red\",label=\"Training\")\n",
    "plt.plot(epochs,validation_loss,c=\"blue\",label=\"Validation\")\n",
    "plt.xlabel(\"Epochs\")\n",
    "plt.ylabel(\"Loss\")\n",
    "plt.xticks(epochs)\n",
    "plt.legend()"
   ]
  },
  {
   "cell_type": "code",
   "execution_count": 50,
   "metadata": {
    "execution": {
     "iopub.execute_input": "2021-12-10T19:27:21.424693Z",
     "iopub.status.busy": "2021-12-10T19:27:21.424442Z",
     "iopub.status.idle": "2021-12-10T19:27:21.751330Z",
     "shell.execute_reply": "2021-12-10T19:27:21.750632Z",
     "shell.execute_reply.started": "2021-12-10T19:27:21.424659Z"
    }
   },
   "outputs": [],
   "source": [
    "epochs = range(1, len(accuracy)+1)\n",
    "\n",
    "fig2 = plt.figure(figsize=(10,6))\n",
    "plt.plot(epochs,accuracy,c=\"red\",label=\"Training\")\n",
    "plt.plot(epochs,validation_accuracy,c=\"blue\",label=\"Validation\")\n",
    "plt.xlabel(\"Epochs\")\n",
    "plt.ylabel(\"Accuracy\")\n",
    "plt.xticks(epochs)\n",
    "plt.legend()"
   ]
  },
  {
   "cell_type": "code",
   "execution_count": null,
   "metadata": {},
   "outputs": [],
   "source": []
  },
  {
   "cell_type": "markdown",
   "metadata": {},
   "source": [
    "**VGG19**"
   ]
  },
  {
   "cell_type": "markdown",
   "metadata": {},
   "source": []
  },
  {
   "cell_type": "code",
   "execution_count": 51,
   "metadata": {
    "execution": {
     "iopub.execute_input": "2021-12-10T19:27:21.754050Z",
     "iopub.status.busy": "2021-12-10T19:27:21.753469Z",
     "iopub.status.idle": "2021-12-10T19:42:00.050006Z",
     "shell.execute_reply": "2021-12-10T19:42:00.048734Z",
     "shell.execute_reply.started": "2021-12-10T19:27:21.754008Z"
    }
   },
   "outputs": [],
   "source": [
    "train_batches = ImageDataGenerator(\n",
    "    preprocessing_function=tf.keras.applications.vgg19.preprocess_input,\n",
    "    shear_range=0.2,\n",
    "    zoom_range=0.2,\n",
    "    width_shift_range=0.2,\n",
    "    height_shift_range=0.2,\n",
    "    validation_split=0.2).flow_from_directory(\n",
    "    directory=train_path, target_size=(224,224), classes=['cardboard', 'glass', 'metal', \n",
    "                                                         'paper', 'plastic', 'trash'], batch_size=16, subset='training')\n",
    "\n",
    "\n",
    "\n",
    "\n",
    "valid_batches = ImageDataGenerator(\n",
    "    preprocessing_function=tf.keras.applications.vgg19.preprocess_input,\n",
    "    validation_split=0.2).flow_from_directory(\n",
    "    directory=valid_path, target_size=(224,224), classes=['cardboard', 'glass', 'metal', \n",
    "                                                         'paper', 'plastic', 'trash'], batch_size=16, subset='validation')\n",
    "\n",
    "\n",
    "def plotImages(images):\n",
    "    fig, axes = plt.subplots(1, 6, figsize=(20,20))\n",
    "    axes = axes.flatten()\n",
    "    for img, ax in zip(images, axes):\n",
    "        ax.imshow(img.astype(np.uint8))\n",
    "        ax.axis('off')\n",
    "    plt.tight_layout()\n",
    "    plt.show()\n",
    "\n",
    "\n",
    "imgs, labels = next(train_batches)\n",
    "plotImages(imgs)\n",
    "\n",
    "\n",
    "#imput image size\n",
    "IMG_SIZE = 224\n",
    "IMG_SHAPE = (IMG_SIZE, IMG_SIZE, 3)\n",
    "#Import the pretrained weights VGG basic model\n",
    "base_model = tf.keras.applications.VGG19(input_shape=IMG_SHAPE, \n",
    "                                        include_top=False,\n",
    "                                        weights='imagenet')\n",
    "\n",
    "\n",
    "base_model.summary()\n",
    "\n",
    "\n",
    "model = Sequential()\n",
    "\n",
    "base_model.trainable=False\n",
    "\n",
    "#Load the pretrained model\n",
    "model.add(base_model)\n",
    "\n",
    "model.add(GlobalAveragePooling2D())\n",
    "\n",
    "model.add(Dense(units=512, activation='relu'))  \n",
    "model.add(BatchNormalization())                 \n",
    "model.add(Dropout(0.2))                         \n",
    "\n",
    "model.add(Dense(units=128, activation='relu')) \n",
    "model.add(BatchNormalization())                \n",
    "model.add(Dropout(0.2))                        \n",
    "\n",
    "model.add(Dense(units=6, activation='softmax')) \n",
    "model.summary()\n",
    "\n",
    "\n",
    "model.compile(optimizer=Adam(learning_rate=0.0001), loss='categorical_crossentropy', metrics=['accuracy'])\n",
    "\n",
    "model_details = model.fit(x=train_batches, validation_data=valid_batches, epochs=20, verbose=2)\n",
    "\n",
    "loss = model_details.history['loss']\n",
    "validation_loss = model_details.history['val_loss'] \n",
    "\n",
    "\n",
    "accuracy = model_details.history['accuracy']\n",
    "validation_accuracy = model_details.history['val_accuracy']\n",
    "\n",
    "base_model.trainable=True\n",
    "\n",
    "model.summary()\n",
    "\n",
    "model_details = model.fit(x=train_batches,validation_data=valid_batches,\n",
    "                          epochs=8, verbose=2)\n",
    "\n",
    "\n",
    "model.save('vgg19.h5')\n",
    "\n",
    "\n",
    "loss.extend(model_details.history['loss'])\n",
    "validation_loss.extend(model_details.history['val_loss'])\n",
    "accuracy.extend(model_details.history['accuracy'])\n",
    "validation_accuracy.extend(model_details.history['val_accuracy'])\n",
    "\n",
    "\n",
    "print(\"Epochs vs Validation Graph\")\n",
    "epochs = range(1, len(loss)+1)\n",
    "\n",
    "fig1 = plt.figure(figsize=(10,6))\n",
    "plt.plot(epochs,loss,c=\"red\",label=\"Training\")\n",
    "plt.plot(epochs,validation_loss,c=\"blue\",label=\"Validation\")\n",
    "plt.xlabel(\"Epochs\")\n",
    "plt.ylabel(\"Loss\")\n",
    "plt.xticks(epochs)\n",
    "plt.legend()\n",
    "\n",
    "print(\"Epochs vs Accuracy Graph\")\n",
    "epochs = range(1, len(accuracy)+1)\n",
    "\n",
    "fig2 = plt.figure(figsize=(10,6))\n",
    "plt.plot(epochs,accuracy,c=\"red\",label=\"Training\")\n",
    "plt.plot(epochs,validation_accuracy,c=\"blue\",label=\"Validation\")\n",
    "plt.xlabel(\"Epochs\")\n",
    "plt.ylabel(\"Accuracy\")\n",
    "plt.xticks(epochs)\n",
    "plt.legend()"
   ]
  },
  {
   "cell_type": "code",
   "execution_count": null,
   "metadata": {},
   "outputs": [],
   "source": []
  },
  {
   "cell_type": "markdown",
   "metadata": {},
   "source": [
    "**MobileNet**"
   ]
  },
  {
   "cell_type": "code",
   "execution_count": 52,
   "metadata": {
    "execution": {
     "iopub.execute_input": "2021-12-10T19:42:00.052156Z",
     "iopub.status.busy": "2021-12-10T19:42:00.051691Z",
     "iopub.status.idle": "2021-12-10T19:55:59.760010Z",
     "shell.execute_reply": "2021-12-10T19:55:59.759265Z",
     "shell.execute_reply.started": "2021-12-10T19:42:00.052095Z"
    }
   },
   "outputs": [],
   "source": [
    "train_batches = ImageDataGenerator(\n",
    "    preprocessing_function=tf.keras.applications.mobilenet.preprocess_input,\n",
    "    shear_range=0.2,\n",
    "    zoom_range=0.2,\n",
    "    width_shift_range=0.2,\n",
    "    height_shift_range=0.2,\n",
    "    validation_split=0.2).flow_from_directory(\n",
    "    directory=train_path, target_size=(224,224), classes=['cardboard', 'glass', 'metal', \n",
    "                                                         'paper', 'plastic', 'trash'], batch_size=16, subset='training')\n",
    "\n",
    "\n",
    "\n",
    "\n",
    "valid_batches = ImageDataGenerator(\n",
    "    preprocessing_function=tf.keras.applications.mobilenet.preprocess_input,\n",
    "    validation_split=0.2).flow_from_directory(\n",
    "    directory=valid_path, target_size=(224,224), classes=['cardboard', 'glass', 'metal', \n",
    "                                                         'paper', 'plastic', 'trash'], batch_size=16, subset='validation')\n",
    "\n",
    "\n",
    "def plotImages(images):\n",
    "    fig, axes = plt.subplots(1, 6, figsize=(20,20))\n",
    "    axes = axes.flatten()\n",
    "    for img, ax in zip(images, axes):\n",
    "        ax.imshow(img.astype(np.uint8))\n",
    "        ax.axis('off')\n",
    "    plt.tight_layout()\n",
    "    plt.show()\n",
    "\n",
    "\n",
    "imgs, labels = next(train_batches)\n",
    "plotImages(imgs)\n",
    "\n",
    "\n",
    "#imput image size\n",
    "IMG_SIZE = 224\n",
    "IMG_SHAPE = (IMG_SIZE, IMG_SIZE, 3)\n",
    "#Import the pretrained weights VGG basic model\n",
    "base_model = tf.keras.applications.MobileNet(input_shape=IMG_SHAPE, \n",
    "                                        include_top=False,\n",
    "                                        weights='imagenet')\n",
    "\n",
    "\n",
    "base_model.summary()\n",
    "\n",
    "\n",
    "model = Sequential()\n",
    "\n",
    "base_model.trainable=False\n",
    "\n",
    "#Load the pretrained model\n",
    "model.add(base_model)\n",
    "\n",
    "model.add(GlobalAveragePooling2D())\n",
    "\n",
    "model.add(Dense(units=512, activation='relu'))  \n",
    "model.add(BatchNormalization())                 \n",
    "model.add(Dropout(0.2))                         \n",
    "\n",
    "model.add(Dense(units=128, activation='relu')) \n",
    "model.add(BatchNormalization())                \n",
    "model.add(Dropout(0.2))                        \n",
    "\n",
    "model.add(Dense(units=6, activation='softmax')) \n",
    "model.summary()\n",
    "\n",
    "\n",
    "model.compile(optimizer=Adam(learning_rate=0.0001), loss='categorical_crossentropy', metrics=['accuracy'])\n",
    "\n",
    "model_details = model.fit(x=train_batches, validation_data=valid_batches, epochs=20, verbose=2)\n",
    "\n",
    "loss = model_details.history['loss']\n",
    "validation_loss = model_details.history['val_loss'] \n",
    "\n",
    "\n",
    "accuracy = model_details.history['accuracy']\n",
    "validation_accuracy = model_details.history['val_accuracy']\n",
    "\n",
    "base_model.trainable=True\n",
    "\n",
    "model.summary()\n",
    "\n",
    "model_details = model.fit(x=train_batches,validation_data=valid_batches,\n",
    "                          epochs=8, verbose=2)\n",
    "\n",
    "\n",
    "model.save('vgg19.h5')\n",
    "\n",
    "\n",
    "loss.extend(model_details.history['loss'])\n",
    "validation_loss.extend(model_details.history['val_loss'])\n",
    "accuracy.extend(model_details.history['accuracy'])\n",
    "validation_accuracy.extend(model_details.history['val_accuracy'])\n",
    "\n",
    "\n",
    "print(\"Epochs vs Validation loss graph\")\n",
    "epochs = range(1, len(loss)+1)\n",
    "\n",
    "fig1 = plt.figure(figsize=(10,6))\n",
    "plt.plot(epochs,loss,c=\"red\",label=\"Training\")\n",
    "plt.plot(epochs,validation_loss,c=\"blue\",label=\"Validation\")\n",
    "plt.xlabel(\"Epochs\")\n",
    "plt.ylabel(\"Loss\")\n",
    "plt.xticks(epochs)\n",
    "plt.legend()\n",
    "\n",
    "print(\"Epochs vs Accuracy Graph\")\n",
    "epochs = range(1, len(accuracy)+1)\n",
    "\n",
    "fig2 = plt.figure(figsize=(10,6))\n",
    "plt.plot(epochs,accuracy,c=\"red\",label=\"Training\")\n",
    "plt.plot(epochs,validation_accuracy,c=\"blue\",label=\"Validation\")\n",
    "plt.xlabel(\"Epochs\")\n",
    "plt.ylabel(\"Accuracy\")\n",
    "plt.xticks(epochs)\n",
    "plt.legend()"
   ]
  },
  {
   "cell_type": "code",
   "execution_count": null,
   "metadata": {},
   "outputs": [],
   "source": []
  },
  {
   "cell_type": "code",
   "execution_count": null,
   "metadata": {},
   "outputs": [],
   "source": []
  },
  {
   "cell_type": "code",
   "execution_count": 53,
   "metadata": {
    "execution": {
     "iopub.execute_input": "2021-12-10T19:55:59.761746Z",
     "iopub.status.busy": "2021-12-10T19:55:59.761491Z",
     "iopub.status.idle": "2021-12-10T20:10:43.062263Z",
     "shell.execute_reply": "2021-12-10T20:10:43.061573Z",
     "shell.execute_reply.started": "2021-12-10T19:55:59.761710Z"
    }
   },
   "outputs": [],
   "source": [
    "train_batches = ImageDataGenerator(\n",
    "    preprocessing_function=tf.keras.applications.densenet.preprocess_input,\n",
    "    shear_range=0.2,\n",
    "    zoom_range=0.2,\n",
    "    width_shift_range=0.2,\n",
    "    height_shift_range=0.2,\n",
    "    validation_split=0.2).flow_from_directory(\n",
    "    directory=train_path, target_size=(224,224), classes=['cardboard', 'glass', 'metal', \n",
    "                                                         'paper', 'plastic', 'trash'], batch_size=16, subset='training')\n",
    "\n",
    "\n",
    "\n",
    "\n",
    "valid_batches = ImageDataGenerator(\n",
    "    preprocessing_function=tf.keras.applications.densenet.preprocess_input,\n",
    "    validation_split=0.2).flow_from_directory(\n",
    "    directory=valid_path, target_size=(224,224), classes=['cardboard', 'glass', 'metal', \n",
    "                                                         'paper', 'plastic', 'trash'], batch_size=16, subset='validation')\n",
    "\n",
    "\n",
    "def plotImages(images):\n",
    "    fig, axes = plt.subplots(1, 6, figsize=(20,20))\n",
    "    axes = axes.flatten()\n",
    "    for img, ax in zip(images, axes):\n",
    "        ax.imshow(img.astype(np.uint8))\n",
    "        ax.axis('off')\n",
    "    plt.tight_layout()\n",
    "    plt.show()\n",
    "\n",
    "\n",
    "imgs, labels = next(train_batches)\n",
    "plotImages(imgs)\n",
    "\n",
    "\n",
    "#imput image size\n",
    "IMG_SIZE = 224\n",
    "IMG_SHAPE = (IMG_SIZE, IMG_SIZE, 3)\n",
    "#Import the pretrained weights Densenet121 basic model\n",
    "base_model = tf.keras.applications.DenseNet121(input_shape=IMG_SHAPE, \n",
    "                                        include_top=False,\n",
    "                                        weights='imagenet')\n",
    "\n",
    "\n",
    "base_model.summary()\n",
    "\n",
    "\n",
    "model = Sequential()\n",
    "\n",
    "base_model.trainable=False\n",
    "\n",
    "#Load the pretrained model\n",
    "model.add(base_model)\n",
    "\n",
    "model.add(GlobalAveragePooling2D())\n",
    "\n",
    "model.add(Dense(units=512, activation='relu'))  \n",
    "model.add(BatchNormalization())                 \n",
    "model.add(Dropout(0.2))                         \n",
    "\n",
    "model.add(Dense(units=128, activation='relu')) \n",
    "model.add(BatchNormalization())                \n",
    "model.add(Dropout(0.2))                        \n",
    "\n",
    "model.add(Dense(units=6, activation='softmax')) \n",
    "model.summary()\n",
    "\n",
    "\n",
    "model.compile(optimizer=Adam(learning_rate=0.0001), loss='categorical_crossentropy', metrics=['accuracy'])\n",
    "\n",
    "model_details = model.fit(x=train_batches, validation_data=valid_batches, epochs=20, verbose=2)\n",
    "\n",
    "loss = model_details.history['loss']\n",
    "validation_loss = model_details.history['val_loss'] \n",
    "\n",
    "\n",
    "accuracy = model_details.history['accuracy']\n",
    "validation_accuracy = model_details.history['val_accuracy']\n",
    "\n",
    "base_model.trainable=True\n",
    "\n",
    "model.summary()\n",
    "\n",
    "model_details = model.fit(x=train_batches,validation_data=valid_batches,\n",
    "                          epochs=8, verbose=2)\n",
    "\n",
    "\n",
    "model.save('DenseNet121.h5')\n",
    "\n",
    "\n",
    "loss.extend(model_details.history['loss'])\n",
    "validation_loss.extend(model_details.history['val_loss'])\n",
    "accuracy.extend(model_details.history['accuracy'])\n",
    "validation_accuracy.extend(model_details.history['val_accuracy'])\n",
    "\n",
    "print(\"Epochs vs Validation loss graph\")\n",
    "epochs = range(1, len(loss)+1)\n",
    "\n",
    "fig1 = plt.figure(figsize=(10,6))\n",
    "plt.plot(epochs,loss,c=\"red\",label=\"Training\")\n",
    "plt.plot(epochs,validation_loss,c=\"blue\",label=\"Validation\")\n",
    "plt.xlabel(\"Epochs\")\n",
    "plt.ylabel(\"Loss\")\n",
    "plt.xticks(epochs)\n",
    "plt.legend()\n",
    "\n",
    "print(\"Epochs vs Accuracy Graph\")\n",
    "epochs = range(1, len(accuracy)+1)\n",
    "\n",
    "fig2 = plt.figure(figsize=(10,6))\n",
    "plt.plot(epochs,accuracy,c=\"red\",label=\"Training\")\n",
    "plt.plot(epochs,validation_accuracy,c=\"blue\",label=\"Validation\")\n",
    "plt.xlabel(\"Epochs\")\n",
    "plt.ylabel(\"Accuracy\")\n",
    "plt.xticks(epochs)\n",
    "plt.legend()"
   ]
  },
  {
   "cell_type": "code",
   "execution_count": null,
   "metadata": {},
   "outputs": [],
   "source": []
  },
  {
   "cell_type": "code",
   "execution_count": 54,
   "metadata": {
    "execution": {
     "iopub.execute_input": "2021-12-10T20:10:43.064281Z",
     "iopub.status.busy": "2021-12-10T20:10:43.063820Z",
     "iopub.status.idle": "2021-12-10T20:24:01.445601Z",
     "shell.execute_reply": "2021-12-10T20:24:01.444915Z",
     "shell.execute_reply.started": "2021-12-10T20:10:43.064243Z"
    }
   },
   "outputs": [],
   "source": [
    "train_batches = ImageDataGenerator(\n",
    "    preprocessing_function=tf.keras.applications.xception.preprocess_input,\n",
    "    shear_range=0.2,\n",
    "    zoom_range=0.2,\n",
    "    width_shift_range=0.2,\n",
    "    height_shift_range=0.2,\n",
    "    validation_split=0.2).flow_from_directory(\n",
    "    directory=train_path, target_size=(224,224), classes=['cardboard', 'glass', 'metal', \n",
    "                                                         'paper', 'plastic', 'trash'], batch_size=16, subset='training')\n",
    "\n",
    "\n",
    "\n",
    "\n",
    "valid_batches = ImageDataGenerator(\n",
    "    preprocessing_function=tf.keras.applications.xception.preprocess_input,\n",
    "    validation_split=0.2).flow_from_directory(\n",
    "    directory=valid_path, target_size=(224,224), classes=['cardboard', 'glass', 'metal', \n",
    "                                                         'paper', 'plastic', 'trash'], batch_size=16, subset='validation')\n",
    "\n",
    "\n",
    "def plotImages(images):\n",
    "    fig, axes = plt.subplots(1, 6, figsize=(20,20))\n",
    "    axes = axes.flatten()\n",
    "    for img, ax in zip(images, axes):\n",
    "        ax.imshow(img.astype(np.uint8))\n",
    "        ax.axis('off')\n",
    "    plt.tight_layout()\n",
    "    plt.show()\n",
    "\n",
    "\n",
    "imgs, labels = next(train_batches)\n",
    "plotImages(imgs)\n",
    "\n",
    "\n",
    "#imput image size\n",
    "IMG_SIZE = 224\n",
    "IMG_SHAPE = (IMG_SIZE, IMG_SIZE, 3)\n",
    "#Import the pretrained weights VGG basic model\n",
    "base_model = tf.keras.applications.Xception(input_shape=IMG_SHAPE, \n",
    "                                        include_top=False,\n",
    "                                        weights='imagenet')\n",
    "\n",
    "\n",
    "base_model.summary()\n",
    "\n",
    "\n",
    "model = Sequential()\n",
    "\n",
    "base_model.trainable=True\n",
    "\n",
    "#Load the pretrained model\n",
    "model.add(base_model)\n",
    "\n",
    "model.add(GlobalAveragePooling2D())\n",
    "\n",
    "model.add(Dense(units=512, activation='relu'))  \n",
    "model.add(BatchNormalization())                 \n",
    "model.add(Dropout(0.2))                         \n",
    "\n",
    "model.add(Dense(units=128, activation='relu')) \n",
    "model.add(BatchNormalization())                \n",
    "model.add(Dropout(0.2))                        \n",
    "\n",
    "model.add(Dense(units=6, activation='softmax')) \n",
    "model.summary()\n",
    "\n",
    "\n",
    "model.compile(optimizer=Adam(learning_rate=0.0001), loss='categorical_crossentropy', metrics=['accuracy'])\n",
    "\n",
    "model_details = model.fit(x=train_batches, validation_data=valid_batches, epochs=20, verbose=2)\n",
    "\n",
    "loss = model_details.history['loss']\n",
    "validation_loss = model_details.history['val_loss'] \n",
    "\n",
    "\n",
    "accuracy = model_details.history['accuracy']\n",
    "validation_accuracy = model_details.history['val_accuracy']\n",
    "\n",
    "print(\"Epochs vs Validation loss graph\")\n",
    "epochs = range(1, len(loss)+1)\n",
    "\n",
    "fig1 = plt.figure(figsize=(10,6))\n",
    "plt.plot(epochs,loss,c=\"red\",label=\"Training\")\n",
    "plt.plot(epochs,validation_loss,c=\"blue\",label=\"Validation\")\n",
    "plt.xlabel(\"Epochs\")\n",
    "plt.ylabel(\"Loss\")\n",
    "plt.xticks(epochs)\n",
    "plt.legend()\n",
    "\n",
    "print(\"Epochs vs Accuracy Graph\")\n",
    "epochs = range(1, len(accuracy)+1)\n",
    "\n",
    "fig2 = plt.figure(figsize=(10,6))\n",
    "plt.plot(epochs,accuracy,c=\"red\",label=\"Training\")\n",
    "plt.plot(epochs,validation_accuracy,c=\"blue\",label=\"Validation\")\n",
    "plt.xlabel(\"Epochs\")\n",
    "plt.ylabel(\"Accuracy\")\n",
    "plt.xticks(epochs)\n",
    "plt.legend()"
   ]
  },
  {
   "cell_type": "code",
   "execution_count": 55,
   "metadata": {
    "execution": {
     "iopub.execute_input": "2021-12-10T20:24:01.447388Z",
     "iopub.status.busy": "2021-12-10T20:24:01.446733Z",
     "iopub.status.idle": "2021-12-10T20:24:01.451427Z",
     "shell.execute_reply": "2021-12-10T20:24:01.450607Z",
     "shell.execute_reply.started": "2021-12-10T20:24:01.447343Z"
    }
   },
   "outputs": [],
   "source": [
    "### Mobilenet"
   ]
  },
  {
   "cell_type": "code",
   "execution_count": 56,
   "metadata": {
    "execution": {
     "iopub.execute_input": "2021-12-10T20:24:01.453096Z",
     "iopub.status.busy": "2021-12-10T20:24:01.452850Z",
     "iopub.status.idle": "2021-12-10T20:38:35.772470Z",
     "shell.execute_reply": "2021-12-10T20:38:35.771789Z",
     "shell.execute_reply.started": "2021-12-10T20:24:01.453061Z"
    }
   },
   "outputs": [],
   "source": [
    "train_batches = ImageDataGenerator(\n",
    "    rescale = 1./255,\n",
    "    shear_range=0.1,\n",
    "    zoom_range=0.1,\n",
    "    width_shift_range=0.1,\n",
    "    height_shift_range=0.1,\n",
    "    validation_split=0.1,\n",
    "    horizontal_flip=True,\n",
    "    vertical_flip=True).flow_from_directory(\n",
    "    directory=train_path, target_size=(224,224), classes=['cardboard', 'glass', 'metal', \n",
    "                                                         'paper', 'plastic', 'trash'], batch_size=16, subset='training')\n",
    "\n",
    "\n",
    "\n",
    "\n",
    "valid_batches = ImageDataGenerator(\n",
    "    rescale=1./255,\n",
    "    validation_split=0.1).flow_from_directory(\n",
    "    directory=valid_path, target_size=(224,224), classes=['cardboard', 'glass', 'metal', \n",
    "                                                         'paper', 'plastic', 'trash'], batch_size=16, subset='validation')\n",
    "\n",
    "\n",
    "def plotImages(images):\n",
    "    fig, axes = plt.subplots(1, 6, figsize=(20,20))\n",
    "    axes = axes.flatten()\n",
    "    for img, ax in zip(images, axes):\n",
    "        ax.imshow(img.astype(np.uint8))\n",
    "        ax.axis('off')\n",
    "    plt.tight_layout()\n",
    "    plt.show()\n",
    "\n",
    "\n",
    "imgs, labels = next(train_batches)\n",
    "plotImages(imgs)\n",
    "\n",
    "\n",
    "#imput image size\n",
    "IMG_SIZE = 224\n",
    "IMG_SHAPE = (IMG_SIZE, IMG_SIZE, 3)\n",
    "#Import the pretrained weights VGG basic model\n",
    "base_model = tf.keras.applications.MobileNetV2(input_shape=IMG_SHAPE, \n",
    "                                        include_top=False,\n",
    "                                        weights='imagenet')\n",
    "\n",
    "\n",
    "base_model.summary()\n",
    "\n",
    "\n",
    "model = Sequential()\n",
    "\n",
    "base_model.trainable=False\n",
    "\n",
    "#Load the pretrained model\n",
    "model.add(base_model)\n",
    "\n",
    "model.add(GlobalAveragePooling2D())\n",
    "\n",
    "model.add(Dense(units=512, activation='relu'))  \n",
    "model.add(BatchNormalization())                 \n",
    "model.add(Dropout(0.2))                         \n",
    "\n",
    "model.add(Dense(units=128, activation='relu')) \n",
    "model.add(BatchNormalization())                \n",
    "model.add(Dropout(0.2))                        \n",
    "\n",
    "model.add(Dense(units=6, activation='softmax')) \n",
    "model.summary()\n",
    "\n",
    "\n",
    "model.compile(optimizer=Adam(learning_rate=0.0001), loss='categorical_crossentropy', metrics=['accuracy'])\n",
    "\n",
    "model_details = model.fit(x=train_batches, validation_data=valid_batches, epochs=20, verbose=2)\n",
    "\n",
    "loss = model_details.history['loss']\n",
    "validation_loss = model_details.history['val_loss'] \n",
    "\n",
    "\n",
    "accuracy = model_details.history['accuracy']\n",
    "validation_accuracy = model_details.history['val_accuracy']\n",
    "\n",
    "base_model.trainable=True\n",
    "\n",
    "model.summary()\n",
    "\n",
    "model_details = model.fit(x=train_batches,validation_data=valid_batches,\n",
    "                          epochs=8, verbose=2)\n",
    "\n",
    "\n",
    "model.save('DenseNet121.h5')\n",
    "\n",
    "\n",
    "loss.extend(model_details.history['loss'])\n",
    "validation_loss.extend(model_details.history['val_loss'])\n",
    "accuracy.extend(model_details.history['accuracy'])\n",
    "validation_accuracy.extend(model_details.history['val_accuracy'])\n",
    "\n",
    "print(\"Epochs vs Validation Loss graph\")\n",
    "epochs = range(1, len(loss)+1)\n",
    "\n",
    "fig1 = plt.figure(figsize=(10,6))\n",
    "plt.plot(epochs,loss,c=\"red\",label=\"Training\")\n",
    "plt.plot(epochs,validation_loss,c=\"blue\",label=\"Validation\")\n",
    "plt.xlabel(\"Epochs\")\n",
    "plt.ylabel(\"Loss\")\n",
    "plt.xticks(epochs)\n",
    "plt.legend()\n",
    "\n",
    "print(\"Epochs vs Accuracy graph\")\n",
    "epochs = range(1, len(accuracy)+1)\n",
    "\n",
    "fig2 = plt.figure(figsize=(10,6))\n",
    "plt.plot(epochs,accuracy,c=\"red\",label=\"Training\")\n",
    "plt.plot(epochs,validation_accuracy,c=\"blue\",label=\"Validation\")\n",
    "plt.xlabel(\"Epochs\")\n",
    "plt.ylabel(\"Accuracy\")\n",
    "plt.xticks(epochs)\n",
    "plt.legend()"
   ]
  },
  {
   "cell_type": "code",
   "execution_count": null,
   "metadata": {},
   "outputs": [],
   "source": []
  },
  {
   "cell_type": "code",
   "execution_count": null,
   "metadata": {},
   "outputs": [],
   "source": []
  },
  {
   "cell_type": "code",
   "execution_count": null,
   "metadata": {},
   "outputs": [],
   "source": []
  },
  {
   "cell_type": "code",
   "execution_count": null,
   "metadata": {},
   "outputs": [],
   "source": []
  },
  {
   "cell_type": "code",
   "execution_count": null,
   "metadata": {},
   "outputs": [],
   "source": []
  }
 ],
 "metadata": {
  "kernelspec": {
   "display_name": "Python 3",
   "language": "python",
   "name": "python3"
  },
  "language_info": {
   "codemirror_mode": {
    "name": "ipython",
    "version": 3
   },
   "file_extension": ".py",
   "mimetype": "text/x-python",
   "name": "python",
   "nbconvert_exporter": "python",
   "pygments_lexer": "ipython3",
   "version": "3.8.8"
  }
 },
 "nbformat": 4,
 "nbformat_minor": 4
}
